{
 "cells": [
  {
   "cell_type": "markdown",
   "metadata": {
    "application/vnd.databricks.v1+cell": {
     "cellMetadata": {
      "byteLimit": 2048000,
      "rowLimit": 10000
     },
     "inputWidgets": {},
     "nuid": "6396c5ee-869d-4f38-819d-fadff8f16b9e",
     "showTitle": false,
     "tableResultSettingsMap": {},
     "title": ""
    }
   },
   "source": [
    "# Churn Prediction Data Preparation\n",
    "Our first step is to analyze the data and build the features we'll use to train our model. Let's see how this can be done.\n",
    "\n",
    "<img src=\"https://github.com/databricks-demos/dbdemos-resources/blob/main/images/product/mlops/mlops-uc-end2end-1.png?raw=true\" width=\"1200\">\n",
    "\n",
    "<!-- Collect usage data (view). Remove it to disable the collection or disable the tracker during installation. View README for more details.  -->\n",
    "<img width=\"1px\" src=\"https://ppxrzfxige.execute-api.us-west-2.amazonaws.com/v1/analytics?category=data-science&org_id=984752964297111&notebook=%2F01-mlops-quickstart%2F01_feature_engineering&demo_name=mlops-end2end&event=VIEW&path=%2F_dbdemos%2Fdata-science%2Fmlops-end2end%2F01-mlops-quickstart%2F01_feature_engineering&version=1&user_hash=a3692eff9e5299c6a85c26f2dc27b2e2000517102cea778a7cc80efff9afb355\">"
   ]
  },
  {
   "cell_type": "code",
   "execution_count": 0,
   "metadata": {
    "application/vnd.databricks.v1+cell": {
     "cellMetadata": {
      "byteLimit": 2048000,
      "rowLimit": 10000
     },
     "inputWidgets": {},
     "nuid": "993adf53-0e86-4a0a-a718-a3c852f0a1ff",
     "showTitle": false,
     "tableResultSettingsMap": {},
     "title": ""
    }
   },
   "outputs": [],
   "source": [
    "%pip install --quiet mlflow==2.19 databricks-feature-engineering==0.8.0"
   ]
  },
  {
   "cell_type": "code",
   "execution_count": 0,
   "metadata": {
    "application/vnd.databricks.v1+cell": {
     "cellMetadata": {
      "byteLimit": 2048000,
      "rowLimit": 10000
     },
     "inputWidgets": {},
     "nuid": "e0c4cf66-b3b3-433c-a597-5825d2b500d3",
     "showTitle": false,
     "tableResultSettingsMap": {},
     "title": ""
    }
   },
   "outputs": [],
   "source": [
    "dbutils.library.restartPython()"
   ]
  },
  {
   "cell_type": "code",
   "execution_count": 0,
   "metadata": {
    "application/vnd.databricks.v1+cell": {
     "cellMetadata": {
      "byteLimit": 2048000,
      "rowLimit": 10000
     },
     "inputWidgets": {},
     "nuid": "60a22d90-5309-4ee6-a786-c725e252b80c",
     "showTitle": false,
     "tableResultSettingsMap": {},
     "title": ""
    }
   },
   "outputs": [],
   "source": [
    "from datetime import datetime, timedelta\n",
    "from pyspark.sql.functions import lit\n",
    "import pyspark.sql.functions as F"
   ]
  },
  {
   "cell_type": "markdown",
   "metadata": {
    "application/vnd.databricks.v1+cell": {
     "cellMetadata": {
      "byteLimit": 2048000,
      "rowLimit": 10000
     },
     "inputWidgets": {},
     "nuid": "4e4835dd-d70a-4bdf-a7f9-8f9724895972",
     "showTitle": false,
     "tableResultSettingsMap": {},
     "title": ""
    }
   },
   "source": [
    "# Define Variables"
   ]
  },
  {
   "cell_type": "code",
   "execution_count": 0,
   "metadata": {
    "application/vnd.databricks.v1+cell": {
     "cellMetadata": {
      "byteLimit": 2048000,
      "rowLimit": 10000
     },
     "inputWidgets": {},
     "nuid": "b60ef060-bcb7-49b3-b5c9-2ee44ba93c46",
     "showTitle": false,
     "tableResultSettingsMap": {},
     "title": ""
    }
   },
   "outputs": [],
   "source": [
    "# A Hive-registered Delta table containing the input data.\n",
    "dbutils.widgets.text(\n",
    "    \"input_table_name\",\n",
    "    \"main.dbdemos_mlops.advanced_churn_bronze_customers\",\n",
    "    label=\"Input Table Name\",\n",
    ")\n",
    "# Feature table to store the computed features.\n",
    "dbutils.widgets.text(\n",
    "    \"advanced_churn_label_table\",\n",
    "    \"dev.koeppen_dabs_demo.advanced_churn_label_table\",\n",
    "    label=\"Label Table\",\n",
    ")\n",
    "\n",
    "# Feature table to store the computed features.\n",
    "dbutils.widgets.text(\n",
    "    \"advanced_churn_feature_table\",\n",
    "    \"dev.koeppen_dabs_demo.advanced_churn_feature_table\",\n",
    "    label=\"Feature Table\",\n",
    ")\n",
    "\n",
    "# Feature table to store the computed features.\n",
    "dbutils.widgets.text(\n",
    "    \"avg_price_increase\",\n",
    "    \"dev.koeppen_dabs_demo.avg_price_increase\",\n",
    "    label=\"Avg Price Increase Function\",\n",
    ")\n"
   ]
  },
  {
   "cell_type": "code",
   "execution_count": 0,
   "metadata": {
    "application/vnd.databricks.v1+cell": {
     "cellMetadata": {
      "byteLimit": 2048000,
      "rowLimit": 10000
     },
     "inputWidgets": {},
     "nuid": "922a3a1c-797e-483c-8624-6bece5647565",
     "showTitle": false,
     "tableResultSettingsMap": {},
     "title": ""
    }
   },
   "outputs": [],
   "source": [
    "import os\n",
    "notebook_path =  '/Workspace/' + os.path.dirname(dbutils.notebook.entry_point.getDbutils().notebook().getContext().notebookPath().get())\n",
    "%cd $notebook_path\n",
    "%cd ../features"
   ]
  },
  {
   "cell_type": "code",
   "execution_count": 0,
   "metadata": {
    "application/vnd.databricks.v1+cell": {
     "cellMetadata": {
      "byteLimit": 2048000,
      "rowLimit": 10000
     },
     "inputWidgets": {},
     "nuid": "46855642-ecb8-4e65-a8e5-849f06b1c6f0",
     "showTitle": false,
     "tableResultSettingsMap": {},
     "title": ""
    }
   },
   "outputs": [],
   "source": [
    "input_table_name = dbutils.widgets.get(\"input_table_name\")\n",
    "advanced_churn_label_table = dbutils.widgets.get(\"advanced_churn_label_table\")\n",
    "advanced_churn_feature_table = dbutils.widgets.get(\"advanced_churn_feature_table\")\n",
    "avg_price_increase = dbutils.widgets.get(\"avg_price_increase\")\n",
    "\n",
    "assert input_table_name != \"\", \"input_table_path notebook parameter must be specified\"\n",
    "assert advanced_churn_feature_table != \"\", \"output_table_name notebook parameter must be specified\"\n",
    "\n",
    "# Extract database name. Needs to be updated for Unity Catalog to the Schema name.\n",
    "output_database = advanced_churn_feature_table.split(\".\")[1]"
   ]
  },
  {
   "cell_type": "code",
   "execution_count": 0,
   "metadata": {
    "application/vnd.databricks.v1+cell": {
     "cellMetadata": {
      "byteLimit": 2048000,
      "rowLimit": 10000
     },
     "inputWidgets": {},
     "nuid": "9e13c754-092e-4e1e-ad40-d2a6a193d7ac",
     "showTitle": false,
     "tableResultSettingsMap": {},
     "title": ""
    }
   },
   "outputs": [],
   "source": [
    "print(output_database)"
   ]
  },
  {
   "cell_type": "code",
   "execution_count": 0,
   "metadata": {
    "application/vnd.databricks.v1+cell": {
     "cellMetadata": {
      "byteLimit": 2048000,
      "rowLimit": 10000
     },
     "inputWidgets": {},
     "nuid": "f807c8f3-9c5b-45da-80a8-6fd1fc295804",
     "showTitle": true,
     "tableResultSettingsMap": {},
     "title": "Making sure that we have a schema to land our data in"
    }
   },
   "outputs": [],
   "source": [
    "spark.sql(f\"CREATE SCHEMA IF NOT EXISTS {output_database}\")"
   ]
  },
  {
   "cell_type": "code",
   "execution_count": 0,
   "metadata": {
    "application/vnd.databricks.v1+cell": {
     "cellMetadata": {
      "byteLimit": 2048000,
      "rowLimit": 10000
     },
     "inputWidgets": {},
     "nuid": "0ede8132-3f7b-411f-be0b-190cfbd0d01c",
     "showTitle": false,
     "tableResultSettingsMap": {},
     "title": ""
    }
   },
   "outputs": [],
   "source": [
    "raw_data = spark.table(input_table_name)\n",
    "display(raw_data)"
   ]
  },
  {
   "cell_type": "markdown",
   "metadata": {
    "application/vnd.databricks.v1+cell": {
     "cellMetadata": {
      "byteLimit": 2048000,
      "rowLimit": 10000
     },
     "inputWidgets": {},
     "nuid": "7a78d246-c329-405a-80f4-08ef6aff675a",
     "showTitle": false,
     "tableResultSettingsMap": {},
     "title": ""
    }
   },
   "source": [
    "## Define Featurization Logic(s) for BATCH feature computation - See the .py files located in the features folder\n",
    "\n",
    "1. Compute the number of active services (compute_service_features.py which adds the column num_optional_services)\n",
    "2. Clean-up names and manual mapping (clean_churn_features.py)\n",
    "\n",
    "_This can also work for streaming based features_"
   ]
  },
  {
   "cell_type": "markdown",
   "metadata": {
    "application/vnd.databricks.v1+cell": {
     "cellMetadata": {
      "byteLimit": 2048000,
      "rowLimit": 10000
     },
     "inputWidgets": {},
     "nuid": "10d7ad01-cb3d-46f8-a2a2-c200ca60f45c",
     "showTitle": false,
     "tableResultSettingsMap": {},
     "title": ""
    }
   },
   "source": [
    "\n",
    "# Compute & Write to Feature Store\n",
    "\n",
    "Once our features are ready, we'll save them in a feature table. Any Delta Table registered to Unity Catalog can be a feature table.\n",
    "\n",
    "This will allow us to leverage Unity Catalog for governance, discoverability, and reusability of our features across our organization and increase team efficiency.\n",
    "\n",
    "The lineage capability in Unity Catalog brings traceability and governance to our deployment, knowing which model depends on which feature tables."
   ]
  },
  {
   "cell_type": "markdown",
   "metadata": {
    "application/vnd.databricks.v1+cell": {
     "cellMetadata": {
      "byteLimit": 2048000,
      "rowLimit": 10000
     },
     "inputWidgets": {},
     "nuid": "cf3acbaa-cd64-4b16-9066-96d139d2ff11",
     "showTitle": false,
     "tableResultSettingsMap": {},
     "title": ""
    }
   },
   "source": [
    "## Compute Features"
   ]
  },
  {
   "cell_type": "code",
   "execution_count": 0,
   "metadata": {
    "application/vnd.databricks.v1+cell": {
     "cellMetadata": {
      "byteLimit": 2048000,
      "rowLimit": 10000
     },
     "inputWidgets": {},
     "nuid": "317508f7-2b0a-46ad-84a7-271da1e35969",
     "showTitle": true,
     "tableResultSettingsMap": {},
     "title": "Compute Churn Features and append a timestamp"
    }
   },
   "outputs": [],
   "source": [
    "# Compute the features. This is done by dynamically loading the features module.\n",
    "# Add current scoring timestamp\n",
    "from compute_service import compute_service_features\n",
    "from featurization_function import clean_churn_features\n",
    "\n",
    "this_time = (datetime.now()).timestamp()\n",
    "churn_features_n_predsDF = clean_churn_features(compute_service_features(raw_data)) \\\n",
    "                            .withColumn(\"transaction_ts\", lit(this_time).cast(\"timestamp\"))\n",
    "\n",
    "display(churn_features_n_predsDF)"
   ]
  },
  {
   "cell_type": "markdown",
   "metadata": {
    "application/vnd.databricks.v1+cell": {
     "cellMetadata": {
      "byteLimit": 2048000,
      "rowLimit": 10000
     },
     "inputWidgets": {},
     "nuid": "e0cd53f9-5aae-4177-85e2-c90dd012ab30",
     "showTitle": false,
     "tableResultSettingsMap": {},
     "title": ""
    }
   },
   "source": [
    "## Extract ground-truth labels in a separate table to avoid label leakage\n",
    "* In reality, ground-truth label data should be in a separate table"
   ]
  },
  {
   "cell_type": "code",
   "execution_count": 0,
   "metadata": {
    "application/vnd.databricks.v1+cell": {
     "cellMetadata": {
      "byteLimit": 2048000,
      "rowLimit": 10000
     },
     "inputWidgets": {},
     "nuid": "1b4f5151-c04a-42a2-a36d-c2d758f5d9d3",
     "showTitle": true,
     "tableResultSettingsMap": {},
     "title": "Write a Labels table with customer_id, transaction_ts, churn, and split"
    }
   },
   "outputs": [],
   "source": [
    "# Best practice: specify train-val-test split as categorical label (to be used by automl and/or model validation jobs)\n",
    "train_ratio, val_ratio, test_ratio = 0.7, 0.2, 0.1\n",
    "\n",
    "churn_features_n_predsDF.select(\"customer_id\", \"transaction_ts\", \"churn\") \\\n",
    "                        .withColumn(\"random\", F.rand(seed=42)) \\\n",
    "                        .withColumn(\"split\",\n",
    "                                    F.when(F.col(\"random\") < train_ratio, \"train\")\n",
    "                                    .when(F.col(\"random\") < train_ratio + val_ratio, \"validate\")\n",
    "                                    .otherwise(\"test\")) \\\n",
    "                        .drop(\"random\") \\\n",
    "                        .write.format(\"delta\") \\\n",
    "                        .mode(\"overwrite\").option(\"overwriteSchema\", \"true\") \\\n",
    "                        .saveAsTable(advanced_churn_label_table)\n",
    "\n",
    "churn_featuresDF = churn_features_n_predsDF.drop(\"churn\")"
   ]
  },
  {
   "cell_type": "markdown",
   "metadata": {
    "application/vnd.databricks.v1+cell": {
     "cellMetadata": {
      "byteLimit": 2048000,
      "rowLimit": 10000
     },
     "inputWidgets": {},
     "nuid": "100b02ab-b0e8-48cb-9db4-1d9b364d41fc",
     "showTitle": false,
     "tableResultSettingsMap": {},
     "title": ""
    }
   },
   "source": [
    "Add primary key constraints to the label table for feature lookup"
   ]
  },
  {
   "cell_type": "code",
   "execution_count": 0,
   "metadata": {
    "application/vnd.databricks.v1+cell": {
     "cellMetadata": {
      "byteLimit": 2048000,
      "implicitDf": true,
      "rowLimit": 10000
     },
     "inputWidgets": {},
     "nuid": "a89de74d-541d-4a68-a734-7e933cacaa1b",
     "showTitle": false,
     "tableResultSettingsMap": {},
     "title": ""
    }
   },
   "outputs": [],
   "source": [
    "spark.sql(f\"ALTER TABLE {advanced_churn_label_table} ALTER COLUMN customer_id SET NOT NULL\")\n",
    "spark.sql(f\"ALTER TABLE {advanced_churn_label_table} ALTER COLUMN transaction_ts SET NOT NULL\")\n",
    "spark.sql(f\"ALTER TABLE {advanced_churn_label_table} ADD CONSTRAINT advanced_churn_label_table_pk PRIMARY KEY(customer_id, transaction_ts)\")"
   ]
  },
  {
   "cell_type": "markdown",
   "metadata": {
    "application/vnd.databricks.v1+cell": {
     "cellMetadata": {
      "byteLimit": 2048000,
      "rowLimit": 10000
     },
     "inputWidgets": {},
     "nuid": "3e8a405f-145c-48bc-8b8b-c3d846601e70",
     "showTitle": false,
     "tableResultSettingsMap": {},
     "title": ""
    }
   },
   "source": [
    "## Write to Feature Store"
   ]
  },
  {
   "cell_type": "markdown",
   "metadata": {
    "application/vnd.databricks.v1+cell": {
     "cellMetadata": {
      "byteLimit": 2048000,
      "rowLimit": 10000
     },
     "inputWidgets": {},
     "nuid": "d1aaa596-6ee2-4ab0-824a-5548f56b0f16",
     "showTitle": false,
     "tableResultSettingsMap": {},
     "title": ""
    }
   },
   "source": [
    "### The FS table is a centralized repository for managing, sharing, and serving ML features\n",
    "* **Consistency between training and inference:** FS ensures consistent feature definitions and transformations between training and inference \n",
    "* **Lineage and Governance:** FS Knows which models, jobs and endpoints use each feature\n",
    "* **Feature Reusability & Discovery:** Enables feature reuse across tealms, reducing duplication and computational costs\n",
    "* **Integration with ML Workflows** FS are designed to work seamlessly with model training, scoring, and deployment pipelines, automatically retrieving the right features for your models"
   ]
  },
  {
   "cell_type": "code",
   "execution_count": 0,
   "metadata": {
    "application/vnd.databricks.v1+cell": {
     "cellMetadata": {
      "byteLimit": 2048000,
      "implicitDf": true,
      "rowLimit": 10000
     },
     "inputWidgets": {},
     "nuid": "66ec3cd1-782c-4e7e-a8ad-d216b904137f",
     "showTitle": true,
     "tableResultSettingsMap": {},
     "title": "Drop the feature table if it already exists"
    }
   },
   "outputs": [],
   "source": [
    "spark.sql(f\"DROP TABLE IF EXISTS {advanced_churn_feature_table}\")"
   ]
  },
  {
   "cell_type": "code",
   "execution_count": 0,
   "metadata": {
    "application/vnd.databricks.v1+cell": {
     "cellMetadata": {
      "byteLimit": 2048000,
      "rowLimit": 10000
     },
     "inputWidgets": {},
     "nuid": "3a9f338e-c24d-449d-acc0-5ca225314fcd",
     "showTitle": true,
     "tableResultSettingsMap": {},
     "title": "Import Feature Store Client"
    }
   },
   "outputs": [],
   "source": [
    "from databricks.feature_engineering import FeatureEngineeringClient\n",
    "fe = FeatureEngineeringClient()"
   ]
  },
  {
   "cell_type": "code",
   "execution_count": 0,
   "metadata": {
    "application/vnd.databricks.v1+cell": {
     "cellMetadata": {
      "byteLimit": 2048000,
      "rowLimit": 10000
     },
     "inputWidgets": {},
     "nuid": "c5b23f69-4345-4894-b4de-6bdba372bc11",
     "showTitle": true,
     "tableResultSettingsMap": {},
     "title": "Create \"feature\"/UC table"
    }
   },
   "outputs": [],
   "source": [
    "churn_feature_table = fe.create_table(\n",
    "  name=advanced_churn_feature_table,\n",
    "  primary_keys=[\"customer_id\", \"transaction_ts\"],\n",
    "  schema=churn_featuresDF.schema,\n",
    "  timeseries_columns=\"transaction_ts\",\n",
    "  description=f\"These features are derived from the {advanced_churn_feature_table} table in the lakehouse. We created service features and cleaned up their names.  No aggregations were performed. [Warning: This table doesn't store the ground truth and can now be used with AutoML's feature table integration.\"\n",
    ")"
   ]
  },
  {
   "cell_type": "code",
   "execution_count": 0,
   "metadata": {
    "application/vnd.databricks.v1+cell": {
     "cellMetadata": {
      "byteLimit": 2048000,
      "rowLimit": 10000
     },
     "inputWidgets": {},
     "nuid": "2e826277-34a6-4abf-91e2-71d5b97ac10f",
     "showTitle": true,
     "tableResultSettingsMap": {},
     "title": "Nothings here because we haven't written it yet, we just created the table layout"
    }
   },
   "outputs": [],
   "source": [
    "display(spark.table(f\"{advanced_churn_feature_table}\"))"
   ]
  },
  {
   "cell_type": "code",
   "execution_count": 0,
   "metadata": {
    "application/vnd.databricks.v1+cell": {
     "cellMetadata": {
      "byteLimit": 2048000,
      "rowLimit": 10000
     },
     "inputWidgets": {},
     "nuid": "b9f68b3f-bed7-410e-a3af-9b5db23d38fe",
     "showTitle": true,
     "tableResultSettingsMap": {},
     "title": "Write the feature values to a feature table"
    }
   },
   "outputs": [],
   "source": [
    "fe.write_table(\n",
    "  name=advanced_churn_feature_table,\n",
    "  df=churn_featuresDF, # can be a streaming dataframe as well\n",
    "  mode='merge' #'merge' supports schema evolution\n",
    ")"
   ]
  },
  {
   "cell_type": "code",
   "execution_count": 0,
   "metadata": {
    "application/vnd.databricks.v1+cell": {
     "cellMetadata": {
      "byteLimit": 2048000,
      "rowLimit": 10000
     },
     "inputWidgets": {},
     "nuid": "a951ab1c-e057-4e63-a542-039569b80e55",
     "showTitle": true,
     "tableResultSettingsMap": {},
     "title": "We have all the features without Churn"
    }
   },
   "outputs": [],
   "source": [
    "display(spark.table(f\"{advanced_churn_feature_table}\"))"
   ]
  },
  {
   "cell_type": "markdown",
   "metadata": {
    "application/vnd.databricks.v1+cell": {
     "cellMetadata": {
      "byteLimit": 2048000,
      "rowLimit": 10000
     },
     "inputWidgets": {},
     "nuid": "84483e14-0d9b-4d95-8214-ecea6967f161",
     "showTitle": false,
     "tableResultSettingsMap": {},
     "title": ""
    }
   },
   "source": [
    "## Define Featurization Logic for on-demand feature functions\n",
    "\n",
    "We will define a function for features that need to be calculated on demand. These functions can be used in batch/offline and serving/online inference.\n",
    "\n",
    "It is common that customers who have elevated monthly bills have a higher propensity to churn. The `avg_price_increase` function calculates the potential average price increase based on their historical charges and current tenure. The function lets the model use this freshly calculated value as a feature for training and, later, scoring.\n",
    "\n",
    "This function is defined under Unity Catalog, which provides governance over who can use the function.\n",
    "\n",
    "Please take a look at the documentation for more information. ([AWS](https://docs.databricks.com/en/machine-learning/feature-store/on-demand-features.html)|[Azure](https://learn.microsoft.com/en-us/azure/databricks/machine-learning/feature-store/on-demand-features)) "
   ]
  },
  {
   "cell_type": "code",
   "execution_count": 0,
   "metadata": {
    "application/vnd.databricks.v1+cell": {
     "cellMetadata": {
      "byteLimit": 2048000,
      "rowLimit": 10000
     },
     "inputWidgets": {},
     "nuid": "d41d78c5-21af-4531-ba2b-1bfb4cd3e676",
     "showTitle": false,
     "tableResultSettingsMap": {},
     "title": ""
    }
   },
   "outputs": [],
   "source": [
    "output_schema = advanced_churn_feature_table.split(\".\")[0]\n",
    "output_database = advanced_churn_feature_table.split(\".\")[1]\n",
    "spark.sql(f\"USE CATALOG {output_schema}\");\n",
    "spark.sql(f\"USE SCHEMA {output_database}\")"
   ]
  },
  {
   "cell_type": "code",
   "execution_count": 0,
   "metadata": {
    "application/vnd.databricks.v1+cell": {
     "cellMetadata": {
      "byteLimit": 2048000,
      "implicitDf": true,
      "rowLimit": 10000
     },
     "inputWidgets": {},
     "nuid": "0ddd4be5-0f7f-4171-b2fd-5e8aab9e00a1",
     "showTitle": false,
     "tableResultSettingsMap": {},
     "title": ""
    }
   },
   "outputs": [],
   "source": [
    "%sql\n",
    "  CREATE OR REPLACE FUNCTION avg_price_increase(monthly_charges_in DOUBLE, tenure_in DOUBLE, total_charges_in DOUBLE)\n",
    "  RETURNS FLOAT\n",
    "  LANGUAGE PYTHON\n",
    "  COMMENT \"[Feature Function] Calculate potential average price increase for tenured customers based on last monthly charges and updated tenure\"\n",
    "  AS $$\n",
    "  if tenure_in > 0:\n",
    "    return monthly_charges_in - total_charges_in/tenure_in\n",
    "  else:\n",
    "    return 0\n",
    "  $$"
   ]
  },
  {
   "cell_type": "code",
   "execution_count": 0,
   "metadata": {
    "application/vnd.databricks.v1+cell": {
     "cellMetadata": {
      "byteLimit": 2048000,
      "rowLimit": 10000
     },
     "inputWidgets": {},
     "nuid": "996c12ab-d7b8-4167-865f-35c628804afb",
     "showTitle": false,
     "tableResultSettingsMap": {},
     "title": ""
    }
   },
   "outputs": [],
   "source": [
    "dbutils.notebook.exit(0)"
   ]
  }
 ],
 "metadata": {
  "application/vnd.databricks.v1+notebook": {
   "computePreferences": null,
   "dashboards": [],
   "environmentMetadata": {
    "environment_version": "2"
   },
   "inputWidgetPreferences": null,
   "language": "python",
   "notebookMetadata": {
    "mostRecentlyExecutedCommandWithImplicitDF": {
     "commandId": 763836920434811,
     "dataframes": [
      "_sqldf"
     ]
    },
    "pythonIndentUnit": 2
   },
   "notebookName": "data_preparation",
   "widgets": {
    "advanced_churn_feature_table": {
     "currentValue": "dev.koeppen_dabs_demo.advanced_churn_feature_table",
     "nuid": "fc97e598-e542-4252-9561-6bebbfd67956",
     "typedWidgetInfo": {
      "autoCreated": false,
      "defaultValue": "dev.koeppen_dabs_demo.advanced_churn_feature_table",
      "label": "Feature Table",
      "name": "advanced_churn_feature_table",
      "options": {
       "widgetDisplayType": "Text",
       "validationRegex": null
      },
      "parameterDataType": "String"
     },
     "widgetInfo": {
      "widgetType": "text",
      "defaultValue": "dev.koeppen_dabs_demo.advanced_churn_feature_table",
      "label": "Feature Table",
      "name": "advanced_churn_feature_table",
      "options": {
       "widgetType": "text",
       "autoCreated": null,
       "validationRegex": null
      }
     }
    },
    "advanced_churn_label_table": {
     "currentValue": "dev.koeppen_dabs_demo.advanced_churn_label_table",
     "nuid": "b0e00dd8-14fc-47d2-8e50-92d9b021c54a",
     "typedWidgetInfo": {
      "autoCreated": false,
      "defaultValue": "dev.koeppen_dabs_demo.advanced_churn_label_table",
      "label": "Label Table",
      "name": "advanced_churn_label_table",
      "options": {
       "widgetDisplayType": "Text",
       "validationRegex": null
      },
      "parameterDataType": "String"
     },
     "widgetInfo": {
      "widgetType": "text",
      "defaultValue": "dev.koeppen_dabs_demo.advanced_churn_label_table",
      "label": "Label Table",
      "name": "advanced_churn_label_table",
      "options": {
       "widgetType": "text",
       "autoCreated": null,
       "validationRegex": null
      }
     }
    },
    "avg_price_increase": {
     "currentValue": "dev.koeppen_dabs_demo.avg_price_increase",
     "nuid": "8f031b97-82bf-44c3-816c-f6d981322f69",
     "typedWidgetInfo": {
      "autoCreated": false,
      "defaultValue": "dev.koeppen_dabs_demo.avg_price_increase",
      "label": "Avg Price Increase Function",
      "name": "avg_price_increase",
      "options": {
       "widgetDisplayType": "Text",
       "validationRegex": null
      },
      "parameterDataType": "String"
     },
     "widgetInfo": {
      "widgetType": "text",
      "defaultValue": "dev.koeppen_dabs_demo.avg_price_increase",
      "label": "Avg Price Increase Function",
      "name": "avg_price_increase",
      "options": {
       "widgetType": "text",
       "autoCreated": null,
       "validationRegex": null
      }
     }
    },
    "input_table_name": {
     "currentValue": "main.dbdemos_mlops.advanced_churn_bronze_customers",
     "nuid": "f4daf7b9-465c-4ec1-a6e1-ceea3ae61d03",
     "typedWidgetInfo": {
      "autoCreated": false,
      "defaultValue": "main.dbdemos_mlops.advanced_churn_bronze_customers",
      "label": "Input Table Name",
      "name": "input_table_name",
      "options": {
       "widgetDisplayType": "Text",
       "validationRegex": null
      },
      "parameterDataType": "String"
     },
     "widgetInfo": {
      "widgetType": "text",
      "defaultValue": "main.dbdemos_mlops.advanced_churn_bronze_customers",
      "label": "Input Table Name",
      "name": "input_table_name",
      "options": {
       "widgetType": "text",
       "autoCreated": null,
       "validationRegex": null
      }
     }
    }
   }
  },
  "language_info": {
   "name": "python"
  }
 },
 "nbformat": 4,
 "nbformat_minor": 0
}
