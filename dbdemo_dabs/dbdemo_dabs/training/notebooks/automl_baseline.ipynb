{
 "cells": [
  {
   "cell_type": "markdown",
   "metadata": {
    "application/vnd.databricks.v1+cell": {
     "cellMetadata": {
      "byteLimit": 2048000,
      "rowLimit": 10000
     },
     "inputWidgets": {},
     "nuid": "5a8c8514-f32f-4f14-ae20-b5f2edd8a241",
     "showTitle": false,
     "tableResultSettingsMap": {},
     "title": ""
    }
   },
   "source": [
    "# Run AutoML and register the best model"
   ]
  },
  {
   "cell_type": "markdown",
   "metadata": {
    "application/vnd.databricks.v1+cell": {
     "cellMetadata": {
      "byteLimit": 2048000,
      "rowLimit": 10000
     },
     "inputWidgets": {},
     "nuid": "d96fc7c6-3ce3-46dc-b57c-049f29bd1a1f",
     "showTitle": false,
     "tableResultSettingsMap": {},
     "title": ""
    }
   },
   "source": [
    "\n",
    "## Accelerating Churn model creation using Databricks Auto-ML\n",
    "### A glass-box solution that empowers data teams without taking away control\n",
    "\n",
    "Databricks simplifies model creation and MLOps. However, bootstrapping new ML projects can still be long and inefficient.\n",
    "\n",
    "Instead of creating the same boilerplate for each new project, Databricks Auto-ML can automatically generate state-of-the-art models for Classifications, regression, and forecasts.\n",
    "\n",
    "Models can be directly deployed or leverage generated notebooks to bootstrap projects with best practices, saving you weeks of effort.\n",
    "\n",
    "<img width=\"1000\" src=\"https://github.com/QuentinAmbard/databricks-demo/raw/main/retail/resources/images/auto-ml-full.png\"/>\n",
    "\n",
    "\n",
    "<br>\n",
    "\n",
    "### Using Databricks Auto ML with our Churn dataset\n",
    "\n",
    "<br>\n",
    "\n",
    "<img style=\"float: right\" width=\"600\" src=\"https://github.com/QuentinAmbard/databricks-demo/raw/main/retail/resources/images/churn-auto-ml.png\"/>\n",
    "\n",
    "<br>\n",
    "\n",
    "Auto ML is available under **Machine Learning - Experiments**. All we have to do is create a new AutoML experiment, select the table containing the ground-truth labels, and join it with the features in the feature table.\n",
    "\n",
    "Our prediction target is the `churn` column.\n",
    "\n",
    "Click on **Start**, and Databricks will do the rest.\n",
    "\n",
    "While this is done using the UI, you can also leverage the [Python API](https://docs.databricks.com/applications/machine-learning/automl.html#automl-python-api-1)\n",
    "\n",
    "<br>\n",
    "\n",
    "#### Join/Use features directly from the Feature Store from the [UI](https://docs.databricks.com/machine-learning/automl/train-ml-model-automl-ui.html#use-existing-feature-tables-from-databricks-feature-store) or [python API]()\n",
    "* Select the table containing the ground-truth labels (i.e., `dbdemos.schema.churn_label_table`)\n",
    "* Join remaining features from the feature table (i.e., `dbdemos.schema.churn_feature_table`)\n",
    "\n",
    "Please take a look at the __Quickstart__ version of this demo for an example of AutoML in action."
   ]
  },
  {
   "cell_type": "code",
   "execution_count": 0,
   "metadata": {
    "application/vnd.databricks.v1+cell": {
     "cellMetadata": {
      "byteLimit": 2048000,
      "rowLimit": 10000
     },
     "inputWidgets": {},
     "nuid": "993adf53-0e86-4a0a-a718-a3c852f0a1ff",
     "showTitle": false,
     "tableResultSettingsMap": {},
     "title": ""
    }
   },
   "outputs": [],
   "source": [
    "%pip install --quiet mlflow==2.19 databricks-feature-engineering==0.8.0"
   ]
  },
  {
   "cell_type": "code",
   "execution_count": 0,
   "metadata": {
    "application/vnd.databricks.v1+cell": {
     "cellMetadata": {
      "byteLimit": 2048000,
      "rowLimit": 10000
     },
     "inputWidgets": {},
     "nuid": "c015a76c-1b41-4ea2-a5b7-4a72d0180dc4",
     "showTitle": true,
     "tableResultSettingsMap": {},
     "title": "if there are any updates to our .py files it'll reflect"
    }
   },
   "outputs": [],
   "source": [
    "%load_ext autoreload\n",
    "%autoreload 2"
   ]
  },
  {
   "cell_type": "code",
   "execution_count": 0,
   "metadata": {
    "application/vnd.databricks.v1+cell": {
     "cellMetadata": {
      "byteLimit": 2048000,
      "rowLimit": 10000
     },
     "inputWidgets": {},
     "nuid": "e0c4cf66-b3b3-433c-a597-5825d2b500d3",
     "showTitle": false,
     "tableResultSettingsMap": {},
     "title": ""
    }
   },
   "outputs": [],
   "source": [
    "dbutils.library.restartPython()"
   ]
  },
  {
   "cell_type": "code",
   "execution_count": 0,
   "metadata": {
    "application/vnd.databricks.v1+cell": {
     "cellMetadata": {
      "byteLimit": 2048000,
      "rowLimit": 10000
     },
     "inputWidgets": {},
     "nuid": "cc6742be-57c5-4c80-85e1-de61e8f30eb9",
     "showTitle": false,
     "tableResultSettingsMap": {},
     "title": ""
    }
   },
   "outputs": [],
   "source": [
    "import os\n",
    "notebook_path =  '/Workspace/' + os.path.dirname(dbutils.notebook.entry_point.getDbutils().notebook().getContext().notebookPath().get())\n",
    "%cd $notebook_path\n",
    "%cd ../features"
   ]
  },
  {
   "cell_type": "markdown",
   "metadata": {
    "application/vnd.databricks.v1+cell": {
     "cellMetadata": {
      "byteLimit": 2048000,
      "rowLimit": 10000
     },
     "inputWidgets": {},
     "nuid": "4e4835dd-d70a-4bdf-a7f9-8f9724895972",
     "showTitle": false,
     "tableResultSettingsMap": {},
     "title": ""
    }
   },
   "source": [
    "# Define Variables"
   ]
  },
  {
   "cell_type": "code",
   "execution_count": 0,
   "metadata": {
    "application/vnd.databricks.v1+cell": {
     "cellMetadata": {
      "byteLimit": 2048000,
      "rowLimit": 10000
     },
     "inputWidgets": {},
     "nuid": "b60ef060-bcb7-49b3-b5c9-2ee44ba93c46",
     "showTitle": false,
     "tableResultSettingsMap": {},
     "title": ""
    }
   },
   "outputs": [],
   "source": [
    "# Feature table to store the computed features.\n",
    "dbutils.widgets.text(\n",
    "    \"advanced_churn_label_table\",\n",
    "    \"dev.koeppen_dabs_demo.advanced_churn_label_table\",\n",
    "    label=\"Label Table\",\n",
    ")\n",
    "\n",
    "# Feature table to store the computed features.\n",
    "dbutils.widgets.text(\n",
    "    \"advanced_churn_feature_table\",\n",
    "    \"dev.koeppen_dabs_demo.advanced_churn_feature_table\",\n",
    "    label=\"Feature Table\",\n",
    ")\n",
    "\n",
    "# Feature table to store the computed features.\n",
    "dbutils.widgets.text(\n",
    "    \"avg_price_increase\",\n",
    "    \"dev.koeppen_dabs_demo.avg_price_increase\",\n",
    "    label=\"Avg Price Increase Function\",\n",
    ")\n",
    "\n",
    "# Feature table to store the computed features.\n",
    "dbutils.widgets.text(\n",
    "    \"experiment_name\",\n",
    "    \"advanced_mlops_churn_experiment\",\n",
    "    label=\"Experiment Name\",\n",
    ")\n",
    "\n",
    "# Feature table to store the computed features.\n",
    "dbutils.widgets.text(\n",
    "    \"model_name\",\n",
    "    \"dev.koeppen_dabs_demo.advanced_mlops_churn_model\",\n",
    "    label=\"Model Name\",\n",
    ")\n",
    "\n",
    "# Feature table to store the computed features.\n",
    "dbutils.widgets.text(\n",
    "    \"features_from_registered_automl_model\",\n",
    "    \"dev.koeppen_dabs_demo.features_from_registered_automl_model\",\n",
    "    label=\"features_from_registered_automl_model\",\n",
    ")"
   ]
  },
  {
   "cell_type": "code",
   "execution_count": 0,
   "metadata": {
    "application/vnd.databricks.v1+cell": {
     "cellMetadata": {
      "byteLimit": 2048000,
      "rowLimit": 10000
     },
     "inputWidgets": {},
     "nuid": "46855642-ecb8-4e65-a8e5-849f06b1c6f0",
     "showTitle": false,
     "tableResultSettingsMap": {},
     "title": ""
    }
   },
   "outputs": [],
   "source": [
    "advanced_churn_label_table = dbutils.widgets.get(\"advanced_churn_label_table\")\n",
    "advanced_churn_feature_table = dbutils.widgets.get(\"advanced_churn_feature_table\")\n",
    "avg_price_increase = dbutils.widgets.get(\"avg_price_increase\")\n",
    "experiment_name = dbutils.widgets.get(\"experiment_name\")\n",
    "model_name = dbutils.widgets.get(\"model_name\")\n",
    "features_from_registered_automl_model = dbutils.widgets.get(\"features_from_registered_automl_model\")"
   ]
  },
  {
   "cell_type": "code",
   "execution_count": 0,
   "metadata": {
    "application/vnd.databricks.v1+cell": {
     "cellMetadata": {
      "byteLimit": 2048000,
      "rowLimit": 10000
     },
     "inputWidgets": {},
     "nuid": "6bfb6083-f1cf-4a81-a5a6-34f32f5bcce8",
     "showTitle": false,
     "tableResultSettingsMap": {},
     "title": ""
    }
   },
   "outputs": [],
   "source": [
    "output_schema = advanced_churn_feature_table.split(\".\")[0]\n",
    "output_database = advanced_churn_feature_table.split(\".\")[1]\n",
    "spark.sql(f\"USE CATALOG {output_schema}\");\n",
    "spark.sql(f\"USE SCHEMA {output_database}\")"
   ]
  },
  {
   "cell_type": "markdown",
   "metadata": {
    "application/vnd.databricks.v1+cell": {
     "cellMetadata": {
      "byteLimit": 2048000,
      "rowLimit": 10000
     },
     "inputWidgets": {},
     "nuid": "0498d536-4b1a-4fdf-afd2-561e71edec2d",
     "showTitle": false,
     "tableResultSettingsMap": {},
     "title": ""
    }
   },
   "source": [
    "### labels_df has our customer_id, transaction_ts, churn, and split values"
   ]
  },
  {
   "cell_type": "code",
   "execution_count": 0,
   "metadata": {
    "application/vnd.databricks.v1+cell": {
     "cellMetadata": {
      "byteLimit": 2048000,
      "rowLimit": 10000
     },
     "inputWidgets": {},
     "nuid": "0ede8132-3f7b-411f-be0b-190cfbd0d01c",
     "showTitle": false,
     "tableResultSettingsMap": {},
     "title": ""
    }
   },
   "outputs": [],
   "source": [
    "labels_df = spark.table(advanced_churn_label_table)"
   ]
  },
  {
   "cell_type": "markdown",
   "metadata": {
    "application/vnd.databricks.v1+cell": {
     "cellMetadata": {
      "byteLimit": 2048000,
      "rowLimit": 10000
     },
     "inputWidgets": {},
     "nuid": "61e3b988-7946-4a49-ba54-d079de1748c4",
     "showTitle": false,
     "tableResultSettingsMap": {},
     "title": ""
    }
   },
   "source": [
    "### Our advanced_churn_feature_table has all the features we extracted from the CSV and pre-processing we did in Data Preparation (it doesn't have churn label)"
   ]
  },
  {
   "cell_type": "code",
   "execution_count": 0,
   "metadata": {
    "application/vnd.databricks.v1+cell": {
     "cellMetadata": {
      "byteLimit": 2048000,
      "rowLimit": 10000
     },
     "inputWidgets": {},
     "nuid": "17ffd539-08a1-4044-9213-99d53aff94d6",
     "showTitle": true,
     "tableResultSettingsMap": {},
     "title": "joins raw data with features"
    }
   },
   "outputs": [],
   "source": [
    "from databricks.feature_store import FeatureFunction, FeatureLookup\n",
    "\n",
    "feature_lookups = [\n",
    "    FeatureLookup(\n",
    "      table_name= advanced_churn_feature_table,\n",
    "      lookup_key=[\"customer_id\"],\n",
    "      timestamp_lookup_key=\"transaction_ts\"\n",
    "    ),\n",
    "    FeatureFunction(\n",
    "      udf_name=avg_price_increase,\n",
    "      input_bindings={\n",
    "        \"monthly_charges_in\" : \"monthly_charges\",\n",
    "        \"tenure_in\" : \"tenure\",\n",
    "        \"total_charges_in\" : \"total_charges\"\n",
    "      },\n",
    "      output_name=\"avg_price_increase\"\n",
    "    )\n",
    "]\n",
    "\n",
    "# Step 1: Read features\n",
    "from databricks.feature_engineering import FeatureEngineeringClient\n",
    "fe = FeatureEngineeringClient()\n",
    "\n",
    "# Create Feature specifications object\n",
    "training_set_specs = fe.create_training_set(\n",
    "  df=labels_df, # DataFrame with lookup keys and label/target (+ any other input)\n",
    "  label=\"churn\",\n",
    "  feature_lookups=feature_lookups,\n",
    "  exclude_columns=[\"customer_id\", \"transaction_ts\", 'split']\n",
    ")\n",
    "training_df = training_set_specs.load_df()\n"
   ]
  },
  {
   "cell_type": "code",
   "execution_count": 0,
   "metadata": {
    "application/vnd.databricks.v1+cell": {
     "cellMetadata": {
      "byteLimit": 2048000,
      "rowLimit": 10000
     },
     "inputWidgets": {},
     "nuid": "5cba601f-9fdc-4c64-84d5-a31cdc72edf4",
     "showTitle": false,
     "tableResultSettingsMap": {},
     "title": ""
    }
   },
   "outputs": [],
   "source": [
    "display(training_df)"
   ]
  },
  {
   "cell_type": "code",
   "execution_count": 0,
   "metadata": {
    "application/vnd.databricks.v1+cell": {
     "cellMetadata": {
      "byteLimit": 2048000,
      "rowLimit": 10000
     },
     "inputWidgets": {},
     "nuid": "2c5c1d02-1614-499a-9f56-850c04f0aee0",
     "showTitle": true,
     "tableResultSettingsMap": {},
     "title": "Imports and Utility Functions"
    }
   },
   "outputs": [],
   "source": [
    "import mlflow\n",
    "import databricks.automl\n",
    "from databricks.feature_engineering import FeatureEngineeringClient\n",
    "from pyspark.sql import functions as F\n",
    "\n",
    "def start_automl_run(dataset, target_col, experiment_name=None, timeout_minutes=15):\n",
    "    return databricks.automl.classify(\n",
    "        dataset=dataset,\n",
    "        target_col=target_col,\n",
    "        timeout_minutes=timeout_minutes,\n",
    "        experiment_name=experiment_name\n",
    "    )\n"
   ]
  },
  {
   "cell_type": "code",
   "execution_count": 0,
   "metadata": {
    "application/vnd.databricks.v1+cell": {
     "cellMetadata": {
      "byteLimit": 2048000,
      "rowLimit": 10000
     },
     "inputWidgets": {},
     "nuid": "0dbaf88a-c3d4-41d7-bd9a-bba5ce56c505",
     "showTitle": true,
     "tableResultSettingsMap": {},
     "title": "Run the experiment"
    }
   },
   "outputs": [],
   "source": [
    "automl_result = start_automl_run(\n",
    "    dataset=training_df,         \n",
    "    target_col=\"churn\",\n",
    "    timeout_minutes=15,\n",
    "    experiment_name=experiment_name\n",
    ")\n",
    "best_model_uri = automl_result.best_trial.model_path\n",
    "best_run_id= automl_result.best_trial.mlflow_run_id\n",
    "print(f\"Best model run ID: {best_run_id}\")\n",
    "print(f\"Registered champion model: {best_model_uri}\")\n"
   ]
  },
  {
   "cell_type": "code",
   "execution_count": 0,
   "metadata": {
    "application/vnd.databricks.v1+cell": {
     "cellMetadata": {
      "byteLimit": 2048000,
      "rowLimit": 10000
     },
     "inputWidgets": {},
     "nuid": "f3b9d264-d226-4563-a2a7-107146b85385",
     "showTitle": true,
     "tableResultSettingsMap": {},
     "title": "Register the best model in UC"
    }
   },
   "outputs": [],
   "source": [
    "from mlflow import register_model\n",
    "\n",
    "registration = mlflow.register_model(\n",
    "    model_uri=best_model_uri,\n",
    "    name=model_name\n",
    ")\n",
    "\n",
    "print(\"Model version:\", registration.version)\n",
    "print(\"Run ID:\", registration.run_id)\n",
    "version=registration.version\n",
    "run_id=registration.run_id"
   ]
  },
  {
   "cell_type": "markdown",
   "metadata": {
    "application/vnd.databricks.v1+cell": {
     "cellMetadata": {
      "byteLimit": 2048000,
      "rowLimit": 10000
     },
     "inputWidgets": {},
     "nuid": "e71bea3e-e985-45e6-b1b4-24f62ec1ee82",
     "showTitle": true,
     "tableResultSettingsMap": {},
     "title": "Register the model in UC's Model Registry"
    }
   },
   "source": [
    "from mlflow import register_model\n",
    "from mlflow.tracking import MlflowClient\n",
    "\n",
    "client = MlflowClient()\n",
    "\n",
    "fe = FeatureEngineeringClient()\n",
    "fe.log_model(\n",
    "    model=best_model_uri,\n",
    "    artifact_path=\"automl_model\",\n",
    "    flavor=mlflow.pyfunc,\n",
    "    training_set=training_df,\n",
    "    name=model_name,\n",
    "    input_example=training_df.limit(5).toPandas(),\n",
    "    description=\"AutoML model with feature lineage\"\n",
    ")\n",
    "\n",
    "\n",
    "\n",
    "versions = client.search_model_versions(f\"run_id='{best_run_id}' and name='{model_name}'\")\n",
    "model_version_details = client.get_model_version(name=model_name, version=versions)\n",
    "\n",
    "run_id=model_version_details.run_id\n",
    "\n",
    "print(\"Model version:\", versions)\n",
    "print(\"Run ID:\", run_id)\n"
   ]
  },
  {
   "cell_type": "code",
   "execution_count": 0,
   "metadata": {
    "application/vnd.databricks.v1+cell": {
     "cellMetadata": {
      "byteLimit": 2048000,
      "rowLimit": 10000
     },
     "inputWidgets": {},
     "nuid": "9ced501b-7917-42c5-97df-0a62ab5f71d9",
     "showTitle": true,
     "tableResultSettingsMap": {},
     "title": "Assigns Champion Alias"
    }
   },
   "outputs": [],
   "source": [
    "from mlflow.tracking import MlflowClient\n",
    "client = MlflowClient()\n",
    "\n",
    "# Assign alias\n",
    "if registration.version == '1':\n",
    "    client.set_registered_model_alias(name=model_name, \n",
    "                                      alias=\"champion\", \n",
    "                                      version=registration.version)\n",
    "else:\n",
    "    client.set_registered_model_alias(name=model_name, \n",
    "                                      alias=\"challenger\", \n",
    "                                      version=registration.version)\n",
    "\n",
    "print(f\"Assigned alias {'champion' if registration.version == '1' else 'challenger'} to version {registration.version}\")"
   ]
  },
  {
   "cell_type": "code",
   "execution_count": 0,
   "metadata": {
    "application/vnd.databricks.v1+cell": {
     "cellMetadata": {
      "byteLimit": 2048000,
      "rowLimit": 10000
     },
     "inputWidgets": {},
     "nuid": "87e5277f-e7e7-474f-b9bd-800fd068b4f0",
     "showTitle": true,
     "tableResultSettingsMap": {},
     "title": "Get what model AutoML decided was the best"
    }
   },
   "outputs": [],
   "source": [
    "import mlflow.sklearn\n",
    "# Load the model\n",
    "pipeline_model = mlflow.sklearn.load_model(best_model_uri)\n",
    "# Get the last step (the actual estimator)\n",
    "estimator = pipeline_model.steps[-1][1]  "
   ]
  },
  {
   "cell_type": "code",
   "execution_count": 0,
   "metadata": {
    "application/vnd.databricks.v1+cell": {
     "cellMetadata": {
      "byteLimit": 2048000,
      "rowLimit": 10000
     },
     "inputWidgets": {},
     "nuid": "40c999a6-3a9a-471c-aa10-1d91792a541c",
     "showTitle": true,
     "tableResultSettingsMap": {},
     "title": "Apply various tags to the model for documentation"
    }
   },
   "outputs": [],
   "source": [
    "client = MlflowClient()\n",
    "\n",
    "# We can also tag the model version with the F1 score for visibility\n",
    "client.set_model_version_tag(\n",
    "  name=model_name,\n",
    "  version=version,\n",
    "  key=\"model_type\",\n",
    "  value=f\"{type(estimator).__name__}\"\n",
    ")\n",
    "\n",
    "# We can also tag the model version with the F1 score for visibility\n",
    "client.set_model_version_tag(\n",
    "  name=model_name,\n",
    "  version=version,\n",
    "  key=\"modeling_method\",\n",
    "  value=\"AutoML\"\n",
    ")\n",
    "\n",
    "# We can also tag the model version with the F1 score for visibility\n",
    "client.set_model_version_tag(\n",
    "  name=model_name,\n",
    "  version=version,\n",
    "  key=\"best_run_id\",\n",
    "  value=best_run_id\n",
    ")"
   ]
  },
  {
   "cell_type": "code",
   "execution_count": 0,
   "metadata": {
    "application/vnd.databricks.v1+cell": {
     "cellMetadata": {
      "byteLimit": 2048000,
      "rowLimit": 10000
     },
     "inputWidgets": {},
     "nuid": "cae53ae9-a466-4905-a3be-ce6f4706e0aa",
     "showTitle": false,
     "tableResultSettingsMap": {},
     "title": ""
    }
   },
   "outputs": [],
   "source": [
    "dbutils.notebook.exit(0)"
   ]
  },
  {
   "cell_type": "code",
   "execution_count": 0,
   "metadata": {
    "application/vnd.databricks.v1+cell": {
     "cellMetadata": {
      "byteLimit": 2048000,
      "rowLimit": 10000
     },
     "inputWidgets": {},
     "nuid": "c93782ab-6162-42cc-b18b-22b70bb77fe8",
     "showTitle": false,
     "tableResultSettingsMap": {},
     "title": ""
    }
   },
   "outputs": [],
   "source": []
  }
 ],
 "metadata": {
  "application/vnd.databricks.v1+notebook": {
   "computePreferences": null,
   "dashboards": [],
   "environmentMetadata": {
    "environment_version": "2"
   },
   "inputWidgetPreferences": null,
   "language": "python",
   "notebookMetadata": {
    "mostRecentlyExecutedCommandWithImplicitDF": {
     "commandId": 3369811628440007,
     "dataframes": [
      "_sqldf"
     ]
    },
    "pythonIndentUnit": 2
   },
   "notebookName": "automl_baseline",
   "widgets": {
    "advanced_churn_feature_table": {
     "currentValue": "dev.koeppen_dabs_demo.advanced_churn_feature_table",
     "nuid": "5f89fc8b-11b0-4053-b009-685fc92d63d8",
     "typedWidgetInfo": {
      "autoCreated": false,
      "defaultValue": "dev.koeppen_dabs_demo.advanced_churn_feature_table",
      "label": "Feature Table",
      "name": "advanced_churn_feature_table",
      "options": {
       "widgetDisplayType": "Text",
       "validationRegex": null
      },
      "parameterDataType": "String"
     },
     "widgetInfo": {
      "widgetType": "text",
      "defaultValue": "dev.koeppen_dabs_demo.advanced_churn_feature_table",
      "label": "Feature Table",
      "name": "advanced_churn_feature_table",
      "options": {
       "widgetType": "text",
       "autoCreated": null,
       "validationRegex": null
      }
     }
    },
    "advanced_churn_label_table": {
     "currentValue": "dev.koeppen_dabs_demo.advanced_churn_label_table",
     "nuid": "fedf8b8d-8a37-42e0-a8bf-3af3d819637c",
     "typedWidgetInfo": {
      "autoCreated": false,
      "defaultValue": "dev.koeppen_dabs_demo.advanced_churn_label_table",
      "label": "Label Table",
      "name": "advanced_churn_label_table",
      "options": {
       "widgetDisplayType": "Text",
       "validationRegex": null
      },
      "parameterDataType": "String"
     },
     "widgetInfo": {
      "widgetType": "text",
      "defaultValue": "dev.koeppen_dabs_demo.advanced_churn_label_table",
      "label": "Label Table",
      "name": "advanced_churn_label_table",
      "options": {
       "widgetType": "text",
       "autoCreated": null,
       "validationRegex": null
      }
     }
    },
    "avg_price_increase": {
     "currentValue": "dev.koeppen_dabs_demo.avg_price_increase",
     "nuid": "f86bdb1a-f0e8-4b7a-a429-4ae4fce61b38",
     "typedWidgetInfo": {
      "autoCreated": false,
      "defaultValue": "dev.koeppen_dabs_demo.avg_price_increase",
      "label": "Avg Price Increase Function",
      "name": "avg_price_increase",
      "options": {
       "widgetDisplayType": "Text",
       "validationRegex": null
      },
      "parameterDataType": "String"
     },
     "widgetInfo": {
      "widgetType": "text",
      "defaultValue": "dev.koeppen_dabs_demo.avg_price_increase",
      "label": "Avg Price Increase Function",
      "name": "avg_price_increase",
      "options": {
       "widgetType": "text",
       "autoCreated": null,
       "validationRegex": null
      }
     }
    },
    "experiment_name": {
     "currentValue": "advanced_mlops_churn_experiment",
     "nuid": "c53313e1-fce2-4397-b19c-d07e7791ffbc",
     "typedWidgetInfo": {
      "autoCreated": false,
      "defaultValue": "advanced_mlops_churn_experiment",
      "label": "Experiment Name",
      "name": "experiment_name",
      "options": {
       "widgetDisplayType": "Text",
       "validationRegex": null
      },
      "parameterDataType": "String"
     },
     "widgetInfo": {
      "widgetType": "text",
      "defaultValue": "advanced_mlops_churn_experiment",
      "label": "Experiment Name",
      "name": "experiment_name",
      "options": {
       "widgetType": "text",
       "autoCreated": null,
       "validationRegex": null
      }
     }
    },
    "features_from_registered_automl_model": {
     "currentValue": "dev.koeppen_dabs_demo.features_from_registered_automl_model",
     "nuid": "fc56f60f-52d0-4994-bae6-28ef25b672e9",
     "typedWidgetInfo": {
      "autoCreated": false,
      "defaultValue": "dev.koeppen_dabs_demo.features_from_registered_automl_model",
      "label": "features_from_registered_automl_model",
      "name": "features_from_registered_automl_model",
      "options": {
       "widgetDisplayType": "Text",
       "validationRegex": null
      },
      "parameterDataType": "String"
     },
     "widgetInfo": {
      "widgetType": "text",
      "defaultValue": "dev.koeppen_dabs_demo.features_from_registered_automl_model",
      "label": "features_from_registered_automl_model",
      "name": "features_from_registered_automl_model",
      "options": {
       "widgetType": "text",
       "autoCreated": null,
       "validationRegex": null
      }
     }
    },
    "model_name": {
     "currentValue": "dev.koeppen_dabs_demo.advanced_mlops_churn_model",
     "nuid": "f50235f4-08e0-41da-8227-d1d92bb0ee38",
     "typedWidgetInfo": {
      "autoCreated": false,
      "defaultValue": "dev.koeppen_dabs_demo.advanced_mlops_churn_model",
      "label": "Model Name",
      "name": "model_name",
      "options": {
       "widgetDisplayType": "Text",
       "validationRegex": null
      },
      "parameterDataType": "String"
     },
     "widgetInfo": {
      "widgetType": "text",
      "defaultValue": "dev.koeppen_dabs_demo.advanced_mlops_churn_model",
      "label": "Model Name",
      "name": "model_name",
      "options": {
       "widgetType": "text",
       "autoCreated": null,
       "validationRegex": null
      }
     }
    }
   }
  },
  "language_info": {
   "name": "python"
  }
 },
 "nbformat": 4,
 "nbformat_minor": 0
}
