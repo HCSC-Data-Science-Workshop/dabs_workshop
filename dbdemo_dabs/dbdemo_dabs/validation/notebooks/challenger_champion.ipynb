{
 "cells": [
  {
   "cell_type": "markdown",
   "metadata": {
    "application/vnd.databricks.v1+cell": {
     "cellMetadata": {
      "byteLimit": 2048000,
      "rowLimit": 10000
     },
     "inputWidgets": {},
     "nuid": "bd7ce9b5-ddf8-4333-9102-e1baa4eb41af",
     "showTitle": false,
     "tableResultSettingsMap": {},
     "title": ""
    }
   },
   "source": [
    "# Challenger model validation\n",
    "\n",
    "This notebook performs validation tasks on the candidate __Challenger__ model.\n",
    "\n",
    "It goes through a few steps to validate the model before labelling it (by setting its alias) to `Challenger`.\n",
    "\n",
    "When organizations first start to put MLOps processes in place, they should consider having a \"human-in-the-loop\" to perform visual analyses to validate models before promoting them. As they get more familiar with the process, they can consider automating the steps in a __Workflow__ . The benefits of automation is to ensure that these validation checks are systematically performed before new models are integrated into inference pipelines or deployed for realtime serving. Of course, organizations can opt to retain a \"human-in-the-loop\" in any part of the process and put in place the degree of automation that suits its business needs.\n",
    "\n",
    "<img src=\"https://github.com/databricks-demos/dbdemos-resources/blob/main/images/product/mlops/advanced/banners/mlflow-uc-end-to-end-advanced-4.png?raw=true\" width=\"1200\">\n",
    "\n",
    "*Note: In a typical mlops setup, this would run as part of an automated job to validate a new model. We'll run this demo as an interactive notebook.*\n",
    "\n",
    "<!-- Collect usage data (view). Remove it to disable the collection or the tracker during installation. View README for more details.  -->\n",
    "<img width=\"1px\" src=\"https://ppxrzfxige.execute-api.us-west-2.amazonaws.com/v1/analytics?category=data-science&org_id=984752964297111&notebook=%2F02-mlops-advanced%2F04_challenger_validation&demo_name=mlops-end2end&event=VIEW&path=%2F_dbdemos%2Fdata-science%2Fmlops-end2end%2F02-mlops-advanced%2F04_challenger_validation&version=1&user_hash=a3692eff9e5299c6a85c26f2dc27b2e2000517102cea778a7cc80efff9afb355\">"
   ]
  },
  {
   "cell_type": "markdown",
   "metadata": {
    "application/vnd.databricks.v1+cell": {
     "cellMetadata": {
      "byteLimit": 2048000,
      "rowLimit": 10000
     },
     "inputWidgets": {},
     "nuid": "b0ecd7ee-e2f7-42ab-9ec0-e5a260f43f00",
     "showTitle": false,
     "tableResultSettingsMap": {},
     "title": ""
    }
   },
   "source": [
    "\n",
    "## General Validation Checks\n",
    "\n",
    "<!--img style=\"float: right\" src=\"https://github.com/QuentinAmbard/databricks-demo/raw/main/retail/resources/images/churn-mlflow-webhook-1.png\" width=600 -->\n",
    "\n",
    "In the context of MLOps, there are more tests than simply how accurate a model will be.  To ensure the stability of our ML system and compliance with any regulatory requirements, we will subject each model added to the registry to a series of validation checks.  These include, but are not limited to:\n",
    "<br>\n",
    "* __Model documentation__\n",
    "* __Inference on production data__\n",
    "* __Champion-Challenger testing to ensure that business KPIs are acceptable__\n",
    "\n",
    "In this notebook, we explore some approaches to performing these tests, and how we can add metadata to our models by tagging if they have passed a given test.\n",
    "\n",
    "This part is typically specific to your line of business and quality requirements.\n",
    "\n",
    "For each test, we'll add information using tags to know what has been validated in the model. We can also add Comments to a model if needed."
   ]
  },
  {
   "cell_type": "code",
   "execution_count": 0,
   "metadata": {
    "application/vnd.databricks.v1+cell": {
     "cellMetadata": {
      "byteLimit": 2048000,
      "rowLimit": 10000
     },
     "inputWidgets": {},
     "nuid": "70f46611-3caa-447a-aee3-6d1d11439cdb",
     "showTitle": false,
     "tableResultSettingsMap": {},
     "title": ""
    }
   },
   "outputs": [],
   "source": [
    "%pip install --quiet mlflow==2.19 databricks-feature-engineering==0.8.0\n",
    "dbutils.library.restartPython()"
   ]
  },
  {
   "cell_type": "markdown",
   "metadata": {
    "application/vnd.databricks.v1+cell": {
     "cellMetadata": {
      "byteLimit": 2048000,
      "rowLimit": 10000
     },
     "inputWidgets": {},
     "nuid": "8e4f2eb0-f6b7-4bb6-924c-56a04de628b8",
     "showTitle": false,
     "tableResultSettingsMap": {},
     "title": ""
    }
   },
   "source": [
    "## Fetch Model information\n",
    "\n",
    "We will fetch the model information for the __Challenger__ model from Unity Catalog."
   ]
  },
  {
   "cell_type": "code",
   "execution_count": 0,
   "metadata": {
    "application/vnd.databricks.v1+cell": {
     "cellMetadata": {
      "byteLimit": 2048000,
      "rowLimit": 10000
     },
     "inputWidgets": {},
     "nuid": "a023da17-9e43-458b-91e2-b90968fcc30c",
     "showTitle": false,
     "tableResultSettingsMap": {},
     "title": ""
    }
   },
   "outputs": [],
   "source": [
    "# Feature table to store the computed features.\n",
    "dbutils.widgets.text(\n",
    "    \"model_name\",\n",
    "    \"dev.koeppen_dabs_demo.advanced_mlops_churn_model\",\n",
    "    label=\"Model Name\",\n",
    ")\n",
    "\n",
    "# Feature table to store the computed features.\n",
    "dbutils.widgets.text(\n",
    "    \"model_info_table\",\n",
    "    \"dev.koeppen_dabs_demo.model_info_table\",\n",
    "    label=\"model_info_table\",\n",
    ")\n"
   ]
  },
  {
   "cell_type": "code",
   "execution_count": 0,
   "metadata": {
    "application/vnd.databricks.v1+cell": {
     "cellMetadata": {
      "byteLimit": 2048000,
      "rowLimit": 10000
     },
     "inputWidgets": {},
     "nuid": "42c66bbf-40ed-4ef6-9f4e-8f59b70b81e3",
     "showTitle": false,
     "tableResultSettingsMap": {},
     "title": ""
    }
   },
   "outputs": [],
   "source": [
    "model_info_table = dbutils.widgets.get(\"model_info_table\")\n",
    "model_name = dbutils.widgets.get(\"model_name\")"
   ]
  },
  {
   "cell_type": "code",
   "execution_count": 0,
   "metadata": {
    "application/vnd.databricks.v1+cell": {
     "cellMetadata": {
      "byteLimit": 2048000,
      "rowLimit": 10000
     },
     "inputWidgets": {},
     "nuid": "afde9839-9496-4d3e-8722-b4aea145ac17",
     "showTitle": false,
     "tableResultSettingsMap": {},
     "title": ""
    }
   },
   "outputs": [],
   "source": [
    "from mlflow.tracking import MlflowClient\n",
    "from mlflow.exceptions import MlflowException\n",
    "import pyspark.sql.functions as F\n",
    "from pyspark.sql import Window\n",
    "import datetime\n",
    "\n",
    "# Setup\n",
    "client = MlflowClient()\n",
    "\n",
    "# Step 1: Get current aliased versions from registry\n",
    "try:\n",
    "    champion_version = client.get_model_version_by_alias(model_name, \"champion\").version\n",
    "    challenger_version = client.get_model_version_by_alias(model_name, \"challenger\").version\n",
    "except MlflowException as e:\n",
    "    if \"champion\" in str(e):\n",
    "        print(\"No Champion\")\n",
    "    elif \"challenger\" in str(e):\n",
    "        print(\"No Challenger\")\n",
    "    exit()"
   ]
  },
  {
   "cell_type": "code",
   "execution_count": 0,
   "metadata": {
    "application/vnd.databricks.v1+cell": {
     "cellMetadata": {
      "byteLimit": 2048000,
      "rowLimit": 10000
     },
     "inputWidgets": {},
     "nuid": "26650d0e-e62d-496a-b399-554ebec0b97b",
     "showTitle": false,
     "tableResultSettingsMap": {},
     "title": ""
    }
   },
   "outputs": [],
   "source": [
    "# Step 2: Read model info table\n",
    "df = spark.read.table(model_info_table).filter(F.col(\"model_name\") == model_name)\n",
    "\n",
    "# Step 3: Filter to just the two aliased versions\n",
    "df_filtered = df.filter(F.col(\"model_version\").isin(int(champion_version), int(challenger_version)))\n",
    "\n",
    "# Step 4: Use a window to get latest row per version\n",
    "window_spec = Window.partitionBy(\"model_version\").orderBy(F.desc(\"validation_timestamp\"))\n",
    "df_latest = df_filtered.withColumn(\"row_num\", F.row_number().over(window_spec)).filter(\"row_num = 1\")\n",
    "\n",
    "# Step 5: Collect the two latest records\n",
    "records = df_latest.collect()\n",
    "if len(records) < 2:\n",
    "    raise ValueError(\"Missing inference results for either the champion or challenger model version.\")\n",
    "\n",
    "# Assign based on F1 score\n",
    "model_1 = records[0]\n",
    "model_2 = records[1]\n",
    "\n",
    "if model_1.f1_score >= model_2.f1_score:\n",
    "    new_champion, new_challenger = model_1, model_2\n",
    "else:\n",
    "    new_champion, new_challenger = model_2, model_1\n",
    "\n",
    "# Step 6: Update aliases\n",
    "# First remove old aliases (best practice)\n",
    "client.delete_registered_model_alias(model_name, \"champion\")\n",
    "client.delete_registered_model_alias(model_name, \"challenger\")\n",
    "\n",
    "# Demote the previous champion (if it has changed)\n",
    "if str(new_champion.model_version) != str(champion_version):\n",
    "    client.set_registered_model_alias(model_name, version=champion_version, alias=\"prior_champion\")\n",
    "    client.set_model_version_tag(model_name, champion_version, \"status\", \"demoted_to_prior_champion\")\n",
    "    client.set_model_version_tag(model_name, champion_version, \"demoted_on\", datetime.datetime.now().strftime(\"%Y-%m-%d %H:%M:%S\"))\n",
    "    print(f\"Demoted v{champion_version} to prior_champion\")\n",
    "\n",
    "\n",
    "# Reassign\n",
    "client.set_registered_model_alias(model_name, version=new_champion.model_version, alias=\"champion\")\n",
    "client.set_registered_model_alias(model_name, version=new_challenger.model_version, alias=\"challenger\")\n",
    "\n",
    "# Set tags\n",
    "client.set_model_version_tag(model_name, challenger_version, \"status\", \"promoted_to_champion\")\n",
    "client.set_model_version_tag(model_name, challenger_version, \"promoted_on\", datetime.datetime.now().strftime(\"%Y-%m-%d %H:%M:%S\"))\n",
    "# We can also tag the model version with the F1 score for visibility\n",
    "client.set_model_version_tag(model_name, new_champion.model_version, \"F1_score\", float(new_champion.f1_score))\n",
    "client.set_model_version_tag(model_name, new_challenger.model_version, \"F1_score\", float(new_challenger.f1_score))\n",
    "print(f\"Champion: v{new_champion.model_version} (F1 = {new_champion.f1_score})\")\n",
    "print(f\"Challenger: v{new_challenger.model_version} (F1 = {new_challenger.f1_score})\")"
   ]
  },
  {
   "cell_type": "markdown",
   "metadata": {
    "application/vnd.databricks.v1+cell": {
     "cellMetadata": {
      "byteLimit": 2048000,
      "rowLimit": 10000
     },
     "inputWidgets": {},
     "nuid": "bea8af34-9e32-4ab5-bf94-78a45629dbc5",
     "showTitle": false,
     "tableResultSettingsMap": {},
     "title": ""
    }
   },
   "source": [
    "### Congratulations, our model is now validated and promoted accordingly\n",
    "\n",
    "We now know that our model is ready to be used in inference pipelines and real-time serving endpoints, as it matches our validation standards.\n",
    "\n",
    "\n",
    "Next: [Run batch inference from our newly promoted Champion model]($./05_batch_inference)"
   ]
  }
 ],
 "metadata": {
  "application/vnd.databricks.v1+notebook": {
   "computePreferences": null,
   "dashboards": [],
   "environmentMetadata": {
    "environment_version": "2"
   },
   "inputWidgetPreferences": null,
   "language": "python",
   "notebookMetadata": {
    "mostRecentlyExecutedCommandWithImplicitDF": {
     "commandId": 3233564153362150,
     "dataframes": [
      "_sqldf"
     ]
    },
    "pythonIndentUnit": 2
   },
   "notebookName": "challenger_champion",
   "widgets": {
    "advanced_churn_feature_table": {
     "currentValue": "dev.koeppen_dabs_demo.advanced_churn_feature_table",
     "nuid": "5a720ca9-4e72-4722-8a95-d9d6588fa03c",
     "typedWidgetInfo": {
      "autoCreated": false,
      "defaultValue": "dev.koeppen_dabs_demo.advanced_churn_feature_table",
      "label": "advanced_churn_feature_table",
      "name": "advanced_churn_feature_table",
      "options": {
       "widgetDisplayType": "Text",
       "validationRegex": null
      },
      "parameterDataType": "String"
     },
     "widgetInfo": {
      "widgetType": "text",
      "defaultValue": "dev.koeppen_dabs_demo.advanced_churn_feature_table",
      "label": "advanced_churn_feature_table",
      "name": "advanced_churn_feature_table",
      "options": {
       "widgetType": "text",
       "autoCreated": null,
       "validationRegex": null
      }
     }
    },
    "advanced_churn_label_table": {
     "currentValue": "dev.koeppen_dabs_demo.advanced_churn_label_table",
     "nuid": "c1ff76c5-a57a-4c0e-8c6e-0fcb5b82346b",
     "typedWidgetInfo": {
      "autoCreated": false,
      "defaultValue": "dev.koeppen_dabs_demo.advanced_churn_label_table",
      "label": "advanced_churn_label_table",
      "name": "advanced_churn_label_table",
      "options": {
       "widgetDisplayType": "Text",
       "validationRegex": null
      },
      "parameterDataType": "String"
     },
     "widgetInfo": {
      "widgetType": "text",
      "defaultValue": "dev.koeppen_dabs_demo.advanced_churn_label_table",
      "label": "advanced_churn_label_table",
      "name": "advanced_churn_label_table",
      "options": {
       "widgetType": "text",
       "autoCreated": null,
       "validationRegex": null
      }
     }
    },
    "avg_price_increase": {
     "currentValue": "dev.koeppen_dabs_demo.avg_price_increase",
     "nuid": "276a7f59-40a4-40ed-a9ee-26eb7a2a5718",
     "typedWidgetInfo": {
      "autoCreated": false,
      "defaultValue": "dev.koeppen_dabs_demo.avg_price_increase",
      "label": "avg_price_increase",
      "name": "avg_price_increase",
      "options": {
       "widgetDisplayType": "Text",
       "validationRegex": null
      },
      "parameterDataType": "String"
     },
     "widgetInfo": {
      "widgetType": "text",
      "defaultValue": "dev.koeppen_dabs_demo.avg_price_increase",
      "label": "avg_price_increase",
      "name": "avg_price_increase",
      "options": {
       "widgetType": "text",
       "autoCreated": null,
       "validationRegex": null
      }
     }
    },
    "enable_baseline_comparison": {
     "currentValue": "false",
     "nuid": "efaee158-3236-42e0-a4d8-48133e7e7cc6",
     "typedWidgetInfo": {
      "autoCreated": false,
      "defaultValue": "false",
      "label": "Enable Baseline Comparison",
      "name": "enable_baseline_comparison",
      "options": {
       "widgetDisplayType": "Dropdown",
       "choices": [
        "true",
        "false"
       ],
       "fixedDomain": true,
       "multiselect": false
      },
      "parameterDataType": "String"
     },
     "widgetInfo": {
      "widgetType": "dropdown",
      "defaultValue": "false",
      "label": "Enable Baseline Comparison",
      "name": "enable_baseline_comparison",
      "options": {
       "widgetType": "dropdown",
       "autoCreated": null,
       "choices": [
        "true",
        "false"
       ]
      }
     }
    },
    "experiment_name": {
     "currentValue": "advanced_mlops_churn_experiment",
     "nuid": "cee1535b-eddd-4fd9-bfcc-c3b115083819",
     "typedWidgetInfo": {
      "autoCreated": false,
      "defaultValue": "advanced_mlops_churn_experiment",
      "label": "experiment_name",
      "name": "experiment_name",
      "options": {
       "widgetDisplayType": "Text",
       "validationRegex": null
      },
      "parameterDataType": "String"
     },
     "widgetInfo": {
      "widgetType": "text",
      "defaultValue": "advanced_mlops_churn_experiment",
      "label": "experiment_name",
      "name": "experiment_name",
      "options": {
       "widgetType": "text",
       "autoCreated": null,
       "validationRegex": null
      }
     }
    },
    "model_info_table": {
     "currentValue": "dev.koeppen_dabs_demo.model_info_table",
     "nuid": "c1faa333-49ba-48c7-b8f4-da0599e15117",
     "typedWidgetInfo": {
      "autoCreated": false,
      "defaultValue": "dev.koeppen_dabs_demo.model_info_table",
      "label": "model_info_table",
      "name": "model_info_table",
      "options": {
       "widgetDisplayType": "Text",
       "validationRegex": null
      },
      "parameterDataType": "String"
     },
     "widgetInfo": {
      "widgetType": "text",
      "defaultValue": "dev.koeppen_dabs_demo.model_info_table",
      "label": "model_info_table",
      "name": "model_info_table",
      "options": {
       "widgetType": "text",
       "autoCreated": null,
       "validationRegex": null
      }
     }
    },
    "model_name": {
     "currentValue": "dev.koeppen_dabs_demo.advanced_mlops_churn_model",
     "nuid": "4f3f9b69-4635-4cd1-b0c0-f96abdddc9d9",
     "typedWidgetInfo": {
      "autoCreated": false,
      "defaultValue": "dev.koeppen_dabs_demo.advanced_mlops_churn_model",
      "label": "Model Name",
      "name": "model_name",
      "options": {
       "widgetDisplayType": "Text",
       "validationRegex": null
      },
      "parameterDataType": "String"
     },
     "widgetInfo": {
      "widgetType": "text",
      "defaultValue": "dev.koeppen_dabs_demo.advanced_mlops_churn_model",
      "label": "Model Name",
      "name": "model_name",
      "options": {
       "widgetType": "text",
       "autoCreated": null,
       "validationRegex": null
      }
     }
    },
    "model_type": {
     "currentValue": "regressor",
     "nuid": "5a0150ee-11da-49cf-8f2a-b89ec97ed2a0",
     "typedWidgetInfo": {
      "autoCreated": false,
      "defaultValue": "regressor",
      "label": "Model Type",
      "name": "model_type",
      "options": {
       "widgetDisplayType": "Text",
       "validationRegex": null
      },
      "parameterDataType": "String"
     },
     "widgetInfo": {
      "widgetType": "text",
      "defaultValue": "regressor",
      "label": "Model Type",
      "name": "model_type",
      "options": {
       "widgetType": "text",
       "autoCreated": null,
       "validationRegex": null
      }
     }
    },
    "run_mode": {
     "currentValue": "dry_run",
     "nuid": "7b5a3c33-8518-406f-997f-8975dedfb84c",
     "typedWidgetInfo": {
      "autoCreated": false,
      "defaultValue": "dry_run",
      "label": "Run Mode",
      "name": "run_mode",
      "options": {
       "widgetDisplayType": "Dropdown",
       "choices": [
        "disabled",
        "dry_run",
        "enabled"
       ],
       "fixedDomain": true,
       "multiselect": false
      },
      "parameterDataType": "String"
     },
     "widgetInfo": {
      "widgetType": "dropdown",
      "defaultValue": "dry_run",
      "label": "Run Mode",
      "name": "run_mode",
      "options": {
       "widgetType": "dropdown",
       "autoCreated": null,
       "choices": [
        "disabled",
        "dry_run",
        "enabled"
       ]
      }
     }
    },
    "targets": {
     "currentValue": "churn",
     "nuid": "e441b389-0050-4647-921d-ff67953b970d",
     "typedWidgetInfo": {
      "autoCreated": false,
      "defaultValue": "churn",
      "label": "Targets",
      "name": "targets",
      "options": {
       "widgetDisplayType": "Text",
       "validationRegex": null
      },
      "parameterDataType": "String"
     },
     "widgetInfo": {
      "widgetType": "text",
      "defaultValue": "churn",
      "label": "Targets",
      "name": "targets",
      "options": {
       "widgetType": "text",
       "autoCreated": null,
       "validationRegex": null
      }
     }
    }
   }
  },
  "language_info": {
   "name": "python"
  }
 },
 "nbformat": 4,
 "nbformat_minor": 0
}
